{
 "cells": [
  {
   "cell_type": "markdown",
   "metadata": {},
   "source": [
    "# An example notebook to evaluate NetColoc scores for a range of thresholds on scored input gene lists"
   ]
  },
  {
   "cell_type": "markdown",
   "metadata": {},
   "source": [
    "# _Obtain input gene sets and interactome_"
   ]
  },
  {
   "cell_type": "code",
   "execution_count": 1,
   "metadata": {
    "ExecuteTime": {
     "end_time": "2022-06-14T23:14:39.818053Z",
     "start_time": "2022-06-14T23:14:35.471350Z"
    }
   },
   "outputs": [],
   "source": [
    "# load required packages\n",
    "\n",
    "import numpy as np\n",
    "import matplotlib.pyplot as plt\n",
    "import seaborn as sns\n",
    "import networkx as nx\n",
    "import pandas as pd\n",
    "import re\n",
    "import random\n",
    "\n",
    "from IPython.display import display\n",
    "\n",
    "import getpass\n",
    "import ndex2\n",
    "\n",
    "import json\n",
    "import cdapsutil\n",
    "\n",
    "from gprofiler import GProfiler\n",
    "gp = GProfiler(\"MyToolName/0.1\")\n",
    "\n",
    "from scipy.stats import hypergeom\n",
    "from scipy.stats import norm\n",
    "\n",
    "# latex rendering of text in graphs\n",
    "import matplotlib as mpl\n",
    "mpl.rc('text', usetex = False)\n",
    "mpl.rc('font', family = 'serif')\n",
    "\n",
    "from matplotlib import rcParams\n",
    "rcParams['font.family'] = 'sans-serif'\n",
    "rcParams['font.sans-serif'] = ['Arial']\n",
    "\n",
    "sns.set(font_scale=1.4)\n",
    "\n",
    "sns.set_style('white')\n",
    "\n",
    "sns.set_style(\"ticks\", {\"xtick.major.size\": 15, \"ytick.major.size\": 15})\n",
    "plt.rcParams['svg.fonttype'] = 'none'\n",
    "\n",
    "from datetime import datetime\n",
    "import sys\n",
    "%matplotlib inline"
   ]
  },
  {
   "cell_type": "code",
   "execution_count": 2,
   "metadata": {
    "ExecuteTime": {
     "end_time": "2022-06-14T23:14:40.224601Z",
     "start_time": "2022-06-14T23:14:39.819132Z"
    }
   },
   "outputs": [],
   "source": [
    "\n",
    "# import NetColoc\n",
    "from netcoloc import netprop_zscore, netprop, network_colocalization, validation\n"
   ]
  },
  {
   "cell_type": "markdown",
   "metadata": {},
   "source": [
    "# Load molecular interaction network"
   ]
  },
  {
   "cell_type": "code",
   "execution_count": 3,
   "metadata": {
    "ExecuteTime": {
     "end_time": "2022-06-14T23:22:26.112650Z",
     "start_time": "2022-06-14T23:22:11.619128Z"
    }
   },
   "outputs": [
    {
     "name": "stdout",
     "output_type": "stream",
     "text": [
      "Number of nodes: 18820\n",
      "\n",
      "Number of edges: 2693109\n"
     ]
    }
   ],
   "source": [
    "interactome_uuid='4de852d9-9908-11e9-bcaf-0ac135e8bacf' # for PCNet\n",
    "# interactome_uuid='275bd84e-3d18-11e8-a935-0ac135e8bacf' # for STRING high confidence\n",
    "ndex_server='public.ndexbio.org'\n",
    "ndex_user=None\n",
    "ndex_password=None\n",
    "G_int = ndex2.create_nice_cx_from_server(\n",
    "            ndex_server, \n",
    "            username=ndex_user, \n",
    "            password=ndex_password, \n",
    "            uuid=interactome_uuid\n",
    "        ).to_networkx()\n",
    "nodes = list(G_int.nodes)\n",
    "\n",
    "# remove self edges from network\n",
    "G_int.remove_edges_from(nx.selfloop_edges(G_int))\n",
    "\n",
    "# print out the numbers of nodes and edges in the interatome for diagnostic purposes:\n",
    "print('Number of nodes:',len(G_int.nodes))\n",
    "print('\\nNumber of edges:', len(G_int.edges))"
   ]
  },
  {
   "cell_type": "code",
   "execution_count": 4,
   "metadata": {
    "ExecuteTime": {
     "end_time": "2022-06-14T23:22:26.115811Z",
     "start_time": "2022-06-14T23:22:26.113781Z"
    }
   },
   "outputs": [],
   "source": [
    "int_nodes = list(G_int.nodes)"
   ]
  },
  {
   "cell_type": "code",
   "execution_count": 5,
   "metadata": {
    "ExecuteTime": {
     "end_time": "2022-06-14T23:25:51.208010Z",
     "start_time": "2022-06-14T23:22:26.116725Z"
    }
   },
   "outputs": [
    {
     "name": "stdout",
     "output_type": "stream",
     "text": [
      "\n",
      "calculating w_prime\n",
      "\n",
      "calculating w_double_prime\n"
     ]
    }
   ],
   "source": [
    "# pre-calculate matrices used for network propagation. this step takes a few minutes, more for denser interactomes\n",
    "print('\\ncalculating w_prime')\n",
    "w_prime = netprop.get_normalized_adjacency_matrix(G_int, conserve_heat=True)\n",
    "\n",
    "print('\\ncalculating w_double_prime')\n",
    "w_double_prime = netprop.get_individual_heats_matrix(w_prime, .5)"
   ]
  },
  {
   "cell_type": "markdown",
   "metadata": {},
   "source": [
    "# Select two gene sets of interest. Load gene sets from text files into python\n",
    "\n",
    "Here we select two public differential expression results (https://www.ncbi.nlm.nih.gov/pmc/articles/PMC6124454/). \n",
    "\n",
    "These data identify genes which distinguish steatosis-independent and steatosis-driven advanced fibrosis. Here we select steatosis-independent advanced vs early fibrosis and steatosis-driven advanced vs early fibrosis as our input gene lists.\n",
    "\n",
    "Data downloaded from https://www.ebi.ac.uk/gxa/experiments/E-MTAB-6863/Downloads"
   ]
  },
  {
   "cell_type": "code",
   "execution_count": 6,
   "metadata": {
    "ExecuteTime": {
     "end_time": "2022-06-14T23:25:51.279794Z",
     "start_time": "2022-06-14T23:25:51.209881Z"
    }
   },
   "outputs": [
    {
     "name": "stdout",
     "output_type": "stream",
     "text": [
      "Number of genes with DE results: 25305\n"
     ]
    },
    {
     "data": {
      "text/html": [
       "<div>\n",
       "<style scoped>\n",
       "    .dataframe tbody tr th:only-of-type {\n",
       "        vertical-align: middle;\n",
       "    }\n",
       "\n",
       "    .dataframe tbody tr th {\n",
       "        vertical-align: top;\n",
       "    }\n",
       "\n",
       "    .dataframe thead th {\n",
       "        text-align: right;\n",
       "    }\n",
       "</style>\n",
       "<table border=\"1\" class=\"dataframe\">\n",
       "  <thead>\n",
       "    <tr style=\"text-align: right;\">\n",
       "      <th></th>\n",
       "      <th>Gene ID</th>\n",
       "      <th>Gene Name</th>\n",
       "      <th>'advanced' vs 'early' in 'no steatosis; liver disease; Hepatitis C virus genotype 1' .foldChange</th>\n",
       "      <th>'advanced' vs 'early' in 'no steatosis; liver disease; Hepatitis C virus genotype 1'.pValue</th>\n",
       "      <th>'advanced' vs 'early' in 'no steatosis; liver disease; Hepatitis C virus genotype 3' .foldChange</th>\n",
       "      <th>'advanced' vs 'early' in 'no steatosis; liver disease; Hepatitis C virus genotype 3'.pValue</th>\n",
       "      <th>'advanced' vs 'early' in 'steatosis; liver disease; Hepatitis C virus genotype 1' .foldChange</th>\n",
       "      <th>'advanced' vs 'early' in 'steatosis; liver disease; Hepatitis C virus genotype 1'.pValue</th>\n",
       "      <th>'advanced' vs 'early' in 'steatosis; liver disease; Hepatitis C virus genotype 3' .foldChange</th>\n",
       "      <th>'advanced' vs 'early' in 'steatosis; liver disease; Hepatitis C virus genotype 3'.pValue</th>\n",
       "      <th>'advanced' vs 'early' in 'steatosis; non-alcoholic fatty liver disease; not applicable' .foldChange</th>\n",
       "      <th>'advanced' vs 'early' in 'steatosis; non-alcoholic fatty liver disease; not applicable'.pValue</th>\n",
       "    </tr>\n",
       "  </thead>\n",
       "  <tbody>\n",
       "    <tr>\n",
       "      <th>0</th>\n",
       "      <td>ENSG00000000003</td>\n",
       "      <td>TSPAN6</td>\n",
       "      <td>NaN</td>\n",
       "      <td>NaN</td>\n",
       "      <td>-0.4</td>\n",
       "      <td>0.281913</td>\n",
       "      <td>-0.3</td>\n",
       "      <td>0.877886</td>\n",
       "      <td>-0.3</td>\n",
       "      <td>0.829151</td>\n",
       "      <td>0.2</td>\n",
       "      <td>0.769741</td>\n",
       "    </tr>\n",
       "    <tr>\n",
       "      <th>1</th>\n",
       "      <td>ENSG00000000005</td>\n",
       "      <td>TNMD</td>\n",
       "      <td>NaN</td>\n",
       "      <td>NaN</td>\n",
       "      <td>NaN</td>\n",
       "      <td>NaN</td>\n",
       "      <td>0.1</td>\n",
       "      <td>0.985520</td>\n",
       "      <td>NaN</td>\n",
       "      <td>NaN</td>\n",
       "      <td>NaN</td>\n",
       "      <td>NaN</td>\n",
       "    </tr>\n",
       "    <tr>\n",
       "      <th>2</th>\n",
       "      <td>ENSG00000000419</td>\n",
       "      <td>DPM1</td>\n",
       "      <td>NaN</td>\n",
       "      <td>NaN</td>\n",
       "      <td>-0.3</td>\n",
       "      <td>0.499480</td>\n",
       "      <td>-0.1</td>\n",
       "      <td>0.946040</td>\n",
       "      <td>-0.1</td>\n",
       "      <td>0.938291</td>\n",
       "      <td>0.5</td>\n",
       "      <td>0.304146</td>\n",
       "    </tr>\n",
       "    <tr>\n",
       "      <th>3</th>\n",
       "      <td>ENSG00000000457</td>\n",
       "      <td>SCYL3</td>\n",
       "      <td>NaN</td>\n",
       "      <td>NaN</td>\n",
       "      <td>NaN</td>\n",
       "      <td>NaN</td>\n",
       "      <td>NaN</td>\n",
       "      <td>NaN</td>\n",
       "      <td>NaN</td>\n",
       "      <td>NaN</td>\n",
       "      <td>0.1</td>\n",
       "      <td>0.825765</td>\n",
       "    </tr>\n",
       "    <tr>\n",
       "      <th>4</th>\n",
       "      <td>ENSG00000000460</td>\n",
       "      <td>C1orf112</td>\n",
       "      <td>NaN</td>\n",
       "      <td>NaN</td>\n",
       "      <td>0.6</td>\n",
       "      <td>0.309036</td>\n",
       "      <td>NaN</td>\n",
       "      <td>NaN</td>\n",
       "      <td>-0.3</td>\n",
       "      <td>0.833355</td>\n",
       "      <td>0.1</td>\n",
       "      <td>0.927387</td>\n",
       "    </tr>\n",
       "  </tbody>\n",
       "</table>\n",
       "</div>"
      ],
      "text/plain": [
       "           Gene ID Gene Name  \\\n",
       "0  ENSG00000000003    TSPAN6   \n",
       "1  ENSG00000000005      TNMD   \n",
       "2  ENSG00000000419      DPM1   \n",
       "3  ENSG00000000457     SCYL3   \n",
       "4  ENSG00000000460  C1orf112   \n",
       "\n",
       "   'advanced' vs 'early' in 'no steatosis; liver disease; Hepatitis C virus genotype 1' .foldChange  \\\n",
       "0                                                NaN                                                  \n",
       "1                                                NaN                                                  \n",
       "2                                                NaN                                                  \n",
       "3                                                NaN                                                  \n",
       "4                                                NaN                                                  \n",
       "\n",
       "   'advanced' vs 'early' in 'no steatosis; liver disease; Hepatitis C virus genotype 1'.pValue  \\\n",
       "0                                                NaN                                             \n",
       "1                                                NaN                                             \n",
       "2                                                NaN                                             \n",
       "3                                                NaN                                             \n",
       "4                                                NaN                                             \n",
       "\n",
       "   'advanced' vs 'early' in 'no steatosis; liver disease; Hepatitis C virus genotype 3' .foldChange  \\\n",
       "0                                               -0.4                                                  \n",
       "1                                                NaN                                                  \n",
       "2                                               -0.3                                                  \n",
       "3                                                NaN                                                  \n",
       "4                                                0.6                                                  \n",
       "\n",
       "   'advanced' vs 'early' in 'no steatosis; liver disease; Hepatitis C virus genotype 3'.pValue  \\\n",
       "0                                           0.281913                                             \n",
       "1                                                NaN                                             \n",
       "2                                           0.499480                                             \n",
       "3                                                NaN                                             \n",
       "4                                           0.309036                                             \n",
       "\n",
       "   'advanced' vs 'early' in 'steatosis; liver disease; Hepatitis C virus genotype 1' .foldChange  \\\n",
       "0                                               -0.3                                               \n",
       "1                                                0.1                                               \n",
       "2                                               -0.1                                               \n",
       "3                                                NaN                                               \n",
       "4                                                NaN                                               \n",
       "\n",
       "   'advanced' vs 'early' in 'steatosis; liver disease; Hepatitis C virus genotype 1'.pValue  \\\n",
       "0                                           0.877886                                          \n",
       "1                                           0.985520                                          \n",
       "2                                           0.946040                                          \n",
       "3                                                NaN                                          \n",
       "4                                                NaN                                          \n",
       "\n",
       "   'advanced' vs 'early' in 'steatosis; liver disease; Hepatitis C virus genotype 3' .foldChange  \\\n",
       "0                                               -0.3                                               \n",
       "1                                                NaN                                               \n",
       "2                                               -0.1                                               \n",
       "3                                                NaN                                               \n",
       "4                                               -0.3                                               \n",
       "\n",
       "   'advanced' vs 'early' in 'steatosis; liver disease; Hepatitis C virus genotype 3'.pValue  \\\n",
       "0                                           0.829151                                          \n",
       "1                                                NaN                                          \n",
       "2                                           0.938291                                          \n",
       "3                                                NaN                                          \n",
       "4                                           0.833355                                          \n",
       "\n",
       "   'advanced' vs 'early' in 'steatosis; non-alcoholic fatty liver disease; not applicable' .foldChange  \\\n",
       "0                                                0.2                                                     \n",
       "1                                                NaN                                                     \n",
       "2                                                0.5                                                     \n",
       "3                                                0.1                                                     \n",
       "4                                                0.1                                                     \n",
       "\n",
       "   'advanced' vs 'early' in 'steatosis; non-alcoholic fatty liver disease; not applicable'.pValue  \n",
       "0                                           0.769741                                               \n",
       "1                                                NaN                                               \n",
       "2                                           0.304146                                               \n",
       "3                                           0.825765                                               \n",
       "4                                           0.927387                                               "
      ]
     },
     "execution_count": 6,
     "metadata": {},
     "output_type": "execute_result"
    }
   ],
   "source": [
    "DE_df = pd.read_csv('data/E-MTAB-6863-query-results.tsv',\n",
    "                   sep='\\t',skiprows=3)\n",
    "print(\"Number of genes with DE results:\", len(DE_df))\n",
    "DE_df.head()"
   ]
  },
  {
   "cell_type": "code",
   "execution_count": 7,
   "metadata": {
    "ExecuteTime": {
     "end_time": "2022-06-14T23:25:51.295876Z",
     "start_time": "2022-06-14T23:25:51.280568Z"
    }
   },
   "outputs": [
    {
     "name": "stdout",
     "output_type": "stream",
     "text": [
      "Number of DE genes, steatosis: 468\n",
      "Number of DE genes, no steatosis: 1011\n"
     ]
    },
    {
     "data": {
      "text/html": [
       "<div>\n",
       "<style scoped>\n",
       "    .dataframe tbody tr th:only-of-type {\n",
       "        vertical-align: middle;\n",
       "    }\n",
       "\n",
       "    .dataframe tbody tr th {\n",
       "        vertical-align: top;\n",
       "    }\n",
       "\n",
       "    .dataframe thead th {\n",
       "        text-align: right;\n",
       "    }\n",
       "</style>\n",
       "<table border=\"1\" class=\"dataframe\">\n",
       "  <thead>\n",
       "    <tr style=\"text-align: right;\">\n",
       "      <th></th>\n",
       "      <th>Gene Name</th>\n",
       "      <th>pvalue</th>\n",
       "      <th>foldchange</th>\n",
       "      <th>abs_foldchange</th>\n",
       "    </tr>\n",
       "  </thead>\n",
       "  <tbody>\n",
       "    <tr>\n",
       "      <th>12</th>\n",
       "      <td>LAS1L</td>\n",
       "      <td>0.096526</td>\n",
       "      <td>-0.8</td>\n",
       "      <td>0.8</td>\n",
       "    </tr>\n",
       "    <tr>\n",
       "      <th>15</th>\n",
       "      <td>CFTR</td>\n",
       "      <td>0.077749</td>\n",
       "      <td>1.4</td>\n",
       "      <td>1.4</td>\n",
       "    </tr>\n",
       "    <tr>\n",
       "      <th>45</th>\n",
       "      <td>ARF5</td>\n",
       "      <td>0.092380</td>\n",
       "      <td>-1.1</td>\n",
       "      <td>1.1</td>\n",
       "    </tr>\n",
       "    <tr>\n",
       "      <th>49</th>\n",
       "      <td>AK2</td>\n",
       "      <td>0.092759</td>\n",
       "      <td>-0.8</td>\n",
       "      <td>0.8</td>\n",
       "    </tr>\n",
       "    <tr>\n",
       "      <th>51</th>\n",
       "      <td>FKBP4</td>\n",
       "      <td>0.056916</td>\n",
       "      <td>-1.0</td>\n",
       "      <td>1.0</td>\n",
       "    </tr>\n",
       "  </tbody>\n",
       "</table>\n",
       "</div>"
      ],
      "text/plain": [
       "   Gene Name    pvalue  foldchange  abs_foldchange\n",
       "12     LAS1L  0.096526        -0.8             0.8\n",
       "15      CFTR  0.077749         1.4             1.4\n",
       "45      ARF5  0.092380        -1.1             1.1\n",
       "49       AK2  0.092759        -0.8             0.8\n",
       "51     FKBP4  0.056916        -1.0             1.0"
      ]
     },
     "execution_count": 7,
     "metadata": {},
     "output_type": "execute_result"
    }
   ],
   "source": [
    "# define the first gene set data frame:\n",
    "D1_df = DE_df[['Gene Name',\"'advanced' vs 'early' in 'steatosis; liver disease; Hepatitis C virus genotype 3'.pValue\",\n",
    "              \"'advanced' vs 'early' in 'steatosis; liver disease; Hepatitis C virus genotype 3' .foldChange\"]]\n",
    "D1_df.columns=['Gene Name','pvalue','foldchange']\n",
    "D1_df = D1_df.assign(abs_foldchange=D1_df['foldchange'].abs())\n",
    "D1_df = D1_df[D1_df['pvalue']<0.1] # select genes which are marginally significant\n",
    "print(\"Number of DE genes, steatosis:\", len(D1_df))\n",
    "D1_df.head()\n",
    "\n",
    "# define the second gene set data frame:\n",
    "D2_df = DE_df[['Gene Name',\"'advanced' vs 'early' in 'no steatosis; liver disease; Hepatitis C virus genotype 3'.pValue\",\n",
    "              \"'advanced' vs 'early' in 'no steatosis; liver disease; Hepatitis C virus genotype 3' .foldChange\"]]\n",
    "D2_df.columns=['Gene Name','pvalue','foldchange']\n",
    "D2_df = D2_df.assign(abs_foldchange=D2_df['foldchange'].abs())\n",
    "D2_df = D2_df[D2_df['pvalue']<0.1] # select genes which are marginally significant\n",
    "print(\"Number of DE genes, no steatosis:\", len(D2_df))\n",
    "D2_df.head()"
   ]
  },
  {
   "cell_type": "markdown",
   "metadata": {},
   "source": [
    "# Compute the NetColoc scores for a range of log fold change cutoffs (from 0.5 through 2.0)"
   ]
  },
  {
   "cell_type": "code",
   "execution_count": 8,
   "metadata": {
    "ExecuteTime": {
     "end_time": "2022-06-14T23:26:46.874581Z",
     "start_time": "2022-06-14T23:25:51.296781Z"
    },
    "scrolled": true
   },
   "outputs": [
    {
     "name": "stdout",
     "output_type": "stream",
     "text": [
      "\n",
      "cutoff = 0.5\n",
      "number of D1 genes = 459\n",
      "number of D2 genes = 1004\n",
      "number of shared genes = 117\n",
      "size of network intersection = nan\n",
      "observed size/ expected size = nan\n",
      "p = nan\n",
      "\n",
      "cutoff = 0.6\n",
      "number of D1 genes = 441\n",
      "number of D2 genes = 984\n",
      "number of shared genes = 111\n",
      "size of network intersection = nan\n",
      "observed size/ expected size = nan\n",
      "p = nan\n",
      "\n",
      "cutoff = 0.7\n",
      "number of D1 genes = 412\n",
      "number of D2 genes = 926\n",
      "number of shared genes = 104\n",
      "size of network intersection = nan\n",
      "observed size/ expected size = nan\n",
      "p = nan\n",
      "\n",
      "cutoff = 0.7999999999999999\n",
      "number of D1 genes = 412\n",
      "number of D2 genes = 926\n",
      "number of shared genes = 104\n",
      "size of network intersection = nan\n",
      "observed size/ expected size = nan\n",
      "p = nan\n",
      "\n",
      "cutoff = 0.8999999999999999\n",
      "number of D1 genes = 370\n",
      "number of D2 genes = 832\n",
      "number of shared genes = 91\n",
      "size of network intersection = nan\n",
      "observed size/ expected size = nan\n",
      "p = nan\n",
      "\n",
      "cutoff = 0.9999999999999999\n",
      "number of D1 genes = 315\n",
      "number of D2 genes = 717\n",
      "number of shared genes = 79\n",
      "size of network intersection = nan\n",
      "observed size/ expected size = nan\n",
      "p = nan\n",
      "\n",
      "cutoff = 1.0999999999999999\n",
      "number of D1 genes = 251\n",
      "number of D2 genes = 537\n",
      "number of shared genes = 62\n",
      "size of network intersection = nan\n",
      "observed size/ expected size = nan\n",
      "p = nan\n",
      "\n",
      "Calculating D1 variant z-scores: \n"
     ]
    },
    {
     "data": {
      "application/vnd.jupyter.widget-view+json": {
       "model_id": "ff5d1ca4777446ff9fed59eb606b2c62",
       "version_major": 2,
       "version_minor": 0
      },
      "text/plain": [
       "  0%|          | 0/100 [00:00<?, ?it/s]"
      ]
     },
     "metadata": {},
     "output_type": "display_data"
    },
    {
     "name": "stdout",
     "output_type": "stream",
     "text": [
      "\n",
      "Calculating D2 variant z-scores: \n"
     ]
    },
    {
     "data": {
      "application/vnd.jupyter.widget-view+json": {
       "model_id": "b500d1d96a03450eb8368b0e4a3867ab",
       "version_major": 2,
       "version_minor": 0
      },
      "text/plain": [
       "  0%|          | 0/100 [00:00<?, ?it/s]"
      ]
     },
     "metadata": {},
     "output_type": "display_data"
    },
    {
     "name": "stdout",
     "output_type": "stream",
     "text": [
      "\n",
      "cutoff = 1.1999999999999997\n",
      "number of D1 genes = 189\n",
      "number of D2 genes = 369\n",
      "number of shared genes = 42\n",
      "size of network intersection = 631\n",
      "observed size/ expected size = 2.0134656498292864\n",
      "p = 2.5394644377780988e-76\n",
      "\n",
      "Calculating D1 variant z-scores: \n"
     ]
    },
    {
     "data": {
      "application/vnd.jupyter.widget-view+json": {
       "model_id": "89ee7b9282e5480ba6f5f779681d7b05",
       "version_major": 2,
       "version_minor": 0
      },
      "text/plain": [
       "  0%|          | 0/100 [00:00<?, ?it/s]"
      ]
     },
     "metadata": {},
     "output_type": "display_data"
    },
    {
     "name": "stdout",
     "output_type": "stream",
     "text": [
      "\n",
      "Calculating D2 variant z-scores: \n"
     ]
    },
    {
     "data": {
      "application/vnd.jupyter.widget-view+json": {
       "model_id": "72ab36ca652d4a658bcedb764780a624",
       "version_major": 2,
       "version_minor": 0
      },
      "text/plain": [
       "  0%|          | 0/100 [00:00<?, ?it/s]"
      ]
     },
     "metadata": {},
     "output_type": "display_data"
    },
    {
     "name": "stdout",
     "output_type": "stream",
     "text": [
      "\n",
      "cutoff = 1.2999999999999998\n",
      "number of D1 genes = 128\n",
      "number of D2 genes = 226\n",
      "number of shared genes = 25\n",
      "size of network intersection = 723\n",
      "observed size/ expected size = 2.60615672986807\n",
      "p = 2.339884708959647e-195\n",
      "\n",
      "Calculating D1 variant z-scores: \n"
     ]
    },
    {
     "data": {
      "application/vnd.jupyter.widget-view+json": {
       "model_id": "ed0f7e7ec9b44b7a8778ab901c01482f",
       "version_major": 2,
       "version_minor": 0
      },
      "text/plain": [
       "  0%|          | 0/100 [00:00<?, ?it/s]"
      ]
     },
     "metadata": {},
     "output_type": "display_data"
    },
    {
     "name": "stdout",
     "output_type": "stream",
     "text": [
      "\n",
      "Calculating D2 variant z-scores: \n"
     ]
    },
    {
     "data": {
      "application/vnd.jupyter.widget-view+json": {
       "model_id": "a7a7f02382b3476baefabe5f40bbcb7e",
       "version_major": 2,
       "version_minor": 0
      },
      "text/plain": [
       "  0%|          | 0/100 [00:00<?, ?it/s]"
      ]
     },
     "metadata": {},
     "output_type": "display_data"
    },
    {
     "name": "stdout",
     "output_type": "stream",
     "text": [
      "\n",
      "cutoff = 1.4\n",
      "number of D1 genes = 61\n",
      "number of D2 genes = 102\n",
      "number of shared genes = 10\n",
      "size of network intersection = 544\n",
      "observed size/ expected size = 2.6138766096482797\n",
      "p = 4.282615600586062e-171\n",
      "\n",
      "Calculating D1 variant z-scores: \n"
     ]
    },
    {
     "data": {
      "application/vnd.jupyter.widget-view+json": {
       "model_id": "5f32582e3d044a19a941fb57cb8ec55b",
       "version_major": 2,
       "version_minor": 0
      },
      "text/plain": [
       "  0%|          | 0/100 [00:00<?, ?it/s]"
      ]
     },
     "metadata": {},
     "output_type": "display_data"
    },
    {
     "name": "stdout",
     "output_type": "stream",
     "text": [
      "\n",
      "Calculating D2 variant z-scores: \n"
     ]
    },
    {
     "data": {
      "application/vnd.jupyter.widget-view+json": {
       "model_id": "ee6f9643fc8142f1a45be46a05f2eb9e",
       "version_major": 2,
       "version_minor": 0
      },
      "text/plain": [
       "  0%|          | 0/100 [00:00<?, ?it/s]"
      ]
     },
     "metadata": {},
     "output_type": "display_data"
    },
    {
     "name": "stdout",
     "output_type": "stream",
     "text": [
      "\n",
      "cutoff = 1.4999999999999998\n",
      "number of D1 genes = 61\n",
      "number of D2 genes = 102\n",
      "number of shared genes = 10\n",
      "size of network intersection = 544\n",
      "observed size/ expected size = 2.6138766096482797\n",
      "p = 4.282615600586062e-171\n",
      "\n",
      "Calculating D1 variant z-scores: \n"
     ]
    },
    {
     "data": {
      "application/vnd.jupyter.widget-view+json": {
       "model_id": "84dd00c36ebd4d43979e00304e2a6bed",
       "version_major": 2,
       "version_minor": 0
      },
      "text/plain": [
       "  0%|          | 0/100 [00:00<?, ?it/s]"
      ]
     },
     "metadata": {},
     "output_type": "display_data"
    },
    {
     "name": "stdout",
     "output_type": "stream",
     "text": [
      "\n",
      "Calculating D2 variant z-scores: \n"
     ]
    },
    {
     "data": {
      "application/vnd.jupyter.widget-view+json": {
       "model_id": "1f83adb8b77c4b0c8c9ef3c14539dd47",
       "version_major": 2,
       "version_minor": 0
      },
      "text/plain": [
       "  0%|          | 0/100 [00:00<?, ?it/s]"
      ]
     },
     "metadata": {},
     "output_type": "display_data"
    },
    {
     "name": "stdout",
     "output_type": "stream",
     "text": [
      "\n",
      "cutoff = 1.5999999999999996\n",
      "number of D1 genes = 44\n",
      "number of D2 genes = 63\n",
      "number of shared genes = 6\n",
      "size of network intersection = 540\n",
      "observed size/ expected size = 2.6230145237285667\n",
      "p = 2.620160910475618e-140\n",
      "\n",
      "Calculating D1 variant z-scores: \n"
     ]
    },
    {
     "data": {
      "application/vnd.jupyter.widget-view+json": {
       "model_id": "8a5ab75f8bf64da48a7a37c801101f19",
       "version_major": 2,
       "version_minor": 0
      },
      "text/plain": [
       "  0%|          | 0/100 [00:00<?, ?it/s]"
      ]
     },
     "metadata": {},
     "output_type": "display_data"
    },
    {
     "name": "stdout",
     "output_type": "stream",
     "text": [
      "\n",
      "Calculating D2 variant z-scores: \n"
     ]
    },
    {
     "data": {
      "application/vnd.jupyter.widget-view+json": {
       "model_id": "a4b1aea0a148403bb3615c8e9739e76d",
       "version_major": 2,
       "version_minor": 0
      },
      "text/plain": [
       "  0%|          | 0/100 [00:00<?, ?it/s]"
      ]
     },
     "metadata": {},
     "output_type": "display_data"
    },
    {
     "name": "stdout",
     "output_type": "stream",
     "text": [
      "\n",
      "cutoff = 1.6999999999999997\n",
      "number of D1 genes = 28\n",
      "number of D2 genes = 46\n",
      "number of shared genes = 2\n",
      "size of network intersection = 406\n",
      "observed size/ expected size = 2.0229197807673147\n",
      "p = 2.216794402091626e-60\n",
      "\n",
      "Calculating D1 variant z-scores: \n"
     ]
    },
    {
     "data": {
      "application/vnd.jupyter.widget-view+json": {
       "model_id": "65589ca2f976494db3f346416c2e80ed",
       "version_major": 2,
       "version_minor": 0
      },
      "text/plain": [
       "  0%|          | 0/100 [00:00<?, ?it/s]"
      ]
     },
     "metadata": {},
     "output_type": "display_data"
    },
    {
     "name": "stdout",
     "output_type": "stream",
     "text": [
      "\n",
      "Calculating D2 variant z-scores: \n"
     ]
    },
    {
     "data": {
      "application/vnd.jupyter.widget-view+json": {
       "model_id": "c442d379cef748728df936cc69abb1ae",
       "version_major": 2,
       "version_minor": 0
      },
      "text/plain": [
       "  0%|          | 0/100 [00:00<?, ?it/s]"
      ]
     },
     "metadata": {},
     "output_type": "display_data"
    },
    {
     "name": "stdout",
     "output_type": "stream",
     "text": [
      "\n",
      "cutoff = 1.7999999999999998\n",
      "number of D1 genes = 16\n",
      "number of D2 genes = 34\n",
      "number of shared genes = 2\n",
      "size of network intersection = 428\n",
      "observed size/ expected size = 2.3620309050772628\n",
      "p = 2.2744195855414015e-112\n",
      "\n",
      "Calculating D1 variant z-scores: \n"
     ]
    },
    {
     "data": {
      "application/vnd.jupyter.widget-view+json": {
       "model_id": "76fca1f493a84108bcd2d776c97d3986",
       "version_major": 2,
       "version_minor": 0
      },
      "text/plain": [
       "  0%|          | 0/100 [00:00<?, ?it/s]"
      ]
     },
     "metadata": {},
     "output_type": "display_data"
    },
    {
     "name": "stdout",
     "output_type": "stream",
     "text": [
      "\n",
      "Calculating D2 variant z-scores: \n"
     ]
    },
    {
     "data": {
      "application/vnd.jupyter.widget-view+json": {
       "model_id": "38792da3089f4ff18654c5432274a08f",
       "version_major": 2,
       "version_minor": 0
      },
      "text/plain": [
       "  0%|          | 0/100 [00:00<?, ?it/s]"
      ]
     },
     "metadata": {},
     "output_type": "display_data"
    },
    {
     "name": "stdout",
     "output_type": "stream",
     "text": [
      "\n",
      "cutoff = 1.8999999999999997\n",
      "number of D1 genes = 14\n",
      "number of D2 genes = 25\n",
      "number of shared genes = 2\n",
      "size of network intersection = 409\n",
      "observed size/ expected size = 2.4218379914732355\n",
      "p = 1.9367402713508726e-110\n"
     ]
    }
   ],
   "source": [
    "netcoloc_pval_df=network_colocalization.sweep_input_pvals(D1_df,D2_df,\n",
    "                                                          w_double_prime,\n",
    "                      int_nodes,dict(G_int.degree),\n",
    "                      cutoff_list = np.arange(.5,2.0,.1),\n",
    "                      gene_column='Gene Name',\n",
    "                      score_column='abs_foldchange',\n",
    "                      cutoff_max=False,\n",
    "                     num_reps=100,\n",
    "                     verbose=True,\n",
    "                     z_score_threshold=3,\n",
    "                     z12_threshold=1.5)"
   ]
  },
  {
   "cell_type": "markdown",
   "metadata": {},
   "source": [
    "# Plot the results to inform choice of threshold\n",
    "\n",
    "We recommend choosing the threshold which optimizes the observed divided by expected network intersection size.\n",
    "\n",
    "In this case, that value is abs(log fold change)>1.3"
   ]
  },
  {
   "cell_type": "code",
   "execution_count": 9,
   "metadata": {
    "ExecuteTime": {
     "end_time": "2022-06-14T23:26:46.885081Z",
     "start_time": "2022-06-14T23:26:46.875907Z"
    }
   },
   "outputs": [
    {
     "data": {
      "text/html": [
       "<div>\n",
       "<style scoped>\n",
       "    .dataframe tbody tr th:only-of-type {\n",
       "        vertical-align: middle;\n",
       "    }\n",
       "\n",
       "    .dataframe tbody tr th {\n",
       "        vertical-align: top;\n",
       "    }\n",
       "\n",
       "    .dataframe thead th {\n",
       "        text-align: right;\n",
       "    }\n",
       "</style>\n",
       "<table border=\"1\" class=\"dataframe\">\n",
       "  <thead>\n",
       "    <tr style=\"text-align: right;\">\n",
       "      <th></th>\n",
       "      <th>score_cutoff</th>\n",
       "      <th>D1_num_genes</th>\n",
       "      <th>D2_num_genes</th>\n",
       "      <th>num_shared_genes</th>\n",
       "      <th>observed_overlap</th>\n",
       "      <th>expected_overlap_mean</th>\n",
       "      <th>expected_overlap_std</th>\n",
       "      <th>empirical_p</th>\n",
       "      <th>obs_exp</th>\n",
       "    </tr>\n",
       "  </thead>\n",
       "  <tbody>\n",
       "    <tr>\n",
       "      <th>11</th>\n",
       "      <td>1.6</td>\n",
       "      <td>44</td>\n",
       "      <td>63</td>\n",
       "      <td>6</td>\n",
       "      <td>540.0</td>\n",
       "      <td>205.87</td>\n",
       "      <td>13.264731</td>\n",
       "      <td>2.620161e-140</td>\n",
       "      <td>2.623015</td>\n",
       "    </tr>\n",
       "    <tr>\n",
       "      <th>10</th>\n",
       "      <td>1.5</td>\n",
       "      <td>61</td>\n",
       "      <td>102</td>\n",
       "      <td>10</td>\n",
       "      <td>544.0</td>\n",
       "      <td>208.12</td>\n",
       "      <td>12.056766</td>\n",
       "      <td>4.282616e-171</td>\n",
       "      <td>2.613877</td>\n",
       "    </tr>\n",
       "    <tr>\n",
       "      <th>9</th>\n",
       "      <td>1.4</td>\n",
       "      <td>61</td>\n",
       "      <td>102</td>\n",
       "      <td>10</td>\n",
       "      <td>544.0</td>\n",
       "      <td>208.12</td>\n",
       "      <td>12.056766</td>\n",
       "      <td>4.282616e-171</td>\n",
       "      <td>2.613877</td>\n",
       "    </tr>\n",
       "    <tr>\n",
       "      <th>8</th>\n",
       "      <td>1.3</td>\n",
       "      <td>128</td>\n",
       "      <td>226</td>\n",
       "      <td>25</td>\n",
       "      <td>723.0</td>\n",
       "      <td>277.42</td>\n",
       "      <td>14.955387</td>\n",
       "      <td>2.339885e-195</td>\n",
       "      <td>2.606157</td>\n",
       "    </tr>\n",
       "    <tr>\n",
       "      <th>14</th>\n",
       "      <td>1.9</td>\n",
       "      <td>14</td>\n",
       "      <td>25</td>\n",
       "      <td>2</td>\n",
       "      <td>409.0</td>\n",
       "      <td>168.88</td>\n",
       "      <td>10.768733</td>\n",
       "      <td>1.936740e-110</td>\n",
       "      <td>2.421838</td>\n",
       "    </tr>\n",
       "  </tbody>\n",
       "</table>\n",
       "</div>"
      ],
      "text/plain": [
       "    score_cutoff  D1_num_genes  D2_num_genes  num_shared_genes  \\\n",
       "11           1.6            44            63                 6   \n",
       "10           1.5            61           102                10   \n",
       "9            1.4            61           102                10   \n",
       "8            1.3           128           226                25   \n",
       "14           1.9            14            25                 2   \n",
       "\n",
       "    observed_overlap  expected_overlap_mean  expected_overlap_std  \\\n",
       "11             540.0                 205.87             13.264731   \n",
       "10             544.0                 208.12             12.056766   \n",
       "9              544.0                 208.12             12.056766   \n",
       "8              723.0                 277.42             14.955387   \n",
       "14             409.0                 168.88             10.768733   \n",
       "\n",
       "      empirical_p   obs_exp  \n",
       "11  2.620161e-140  2.623015  \n",
       "10  4.282616e-171  2.613877  \n",
       "9   4.282616e-171  2.613877  \n",
       "8   2.339885e-195  2.606157  \n",
       "14  1.936740e-110  2.421838  "
      ]
     },
     "execution_count": 9,
     "metadata": {},
     "output_type": "execute_result"
    }
   ],
   "source": [
    "netcoloc_pval_df.sort_values('obs_exp',ascending=False).head()"
   ]
  },
  {
   "cell_type": "code",
   "execution_count": 10,
   "metadata": {
    "ExecuteTime": {
     "end_time": "2022-06-14T23:26:47.835905Z",
     "start_time": "2022-06-14T23:26:46.885913Z"
    }
   },
   "outputs": [
    {
     "data": {
      "image/png": "[encoded data removed]",
      "text/plain": [
       "<Figure size 400x400 with 1 Axes>"
      ]
     },
     "metadata": {},
     "output_type": "display_data"
    },
    {
     "data": {
      "image/png": "[encoded data removed]",
      "text/plain": [
       "<Figure size 400x400 with 1 Axes>"
      ]
     },
     "metadata": {},
     "output_type": "display_data"
    }
   ],
   "source": [
    "# plot the results\n",
    "plt.figure(figsize=(4,4))\n",
    "netcoloc_pval_df['average_D1_D2_num_genes']=(netcoloc_pval_df['D1_num_genes']+netcoloc_pval_df['D2_num_genes'])/2.0\n",
    "sns.scatterplot(x='score_cutoff',y='obs_exp',data=netcoloc_pval_df.dropna(),legend=False)\n",
    "sns.lineplot(x='score_cutoff',y='obs_exp',data=netcoloc_pval_df.dropna(),legend=False,alpha=.5)\n",
    "ymax=plt.gca().get_ylim()[1]\n",
    "plt.ylim([1,ymax])\n",
    "_ = plt.ylabel('observed/expected\\nnetwork intersection size')\n",
    "\n",
    "plt.figure(figsize=(4,4))\n",
    "sns.scatterplot(x='score_cutoff',y='observed_overlap',data=netcoloc_pval_df.dropna(),legend=False)\n",
    "sns.lineplot(x='score_cutoff',y='observed_overlap',data=netcoloc_pval_df.dropna(),legend=False,alpha=.5)\n",
    "\n",
    "_ = plt.ylabel('number of genes\\nin network intersection')"
   ]
  },
  {
   "cell_type": "code",
   "execution_count": null,
   "metadata": {},
   "outputs": [],
   "source": []
  }
 ],
 "metadata": {
  "kernelspec": {
   "display_name": "Python [conda env:netcoloc_py313]",
   "language": "python",
   "name": "conda-env-netcoloc_py313-py"
  },
  "language_info": {
   "codemirror_mode": {
    "name": "ipython",
    "version": 3
   },
   "file_extension": ".py",
   "mimetype": "text/x-python",
   "name": "python",
   "nbconvert_exporter": "python",
   "pygments_lexer": "ipython3",
   "version": "3.13.0"
  },
  "toc": {
   "base_numbering": 1,
   "nav_menu": {},
   "number_sections": true,
   "sideBar": true,
   "skip_h1_title": false,
   "title_cell": "Table of Contents",
   "title_sidebar": "Contents",
   "toc_cell": false,
   "toc_position": {},
   "toc_section_display": true,
   "toc_window_display": true
  },
  "varInspector": {
   "cols": {
    "lenName": 16,
    "lenType": 16,
    "lenVar": 40
   },
   "kernels_config": {
    "python": {
     "delete_cmd_postfix": "",
     "delete_cmd_prefix": "del ",
     "library": "var_list.py",
     "varRefreshCmd": "print(var_dic_list())"
    },
    "r": {
     "delete_cmd_postfix": ") ",
     "delete_cmd_prefix": "rm(",
     "library": "var_list.r",
     "varRefreshCmd": "cat(var_dic_list()) "
    }
   },
   "types_to_exclude": [
    "module",
    "function",
    "builtin_function_or_method",
    "instance",
    "_Feature"
   ],
   "window_display": false
  }
 },
 "nbformat": 4,
 "nbformat_minor": 4
}
